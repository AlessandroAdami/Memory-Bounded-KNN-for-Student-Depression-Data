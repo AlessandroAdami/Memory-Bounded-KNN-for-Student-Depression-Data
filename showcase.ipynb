{
 "cells": [
  {
   "cell_type": "markdown",
   "id": "2c543065",
   "metadata": {},
   "source": [
    "## Memory Bounded K-Nearest Neighbours for Large Student Depression Dataset\n",
    "\n",
    "### About\n",
    "\n",
    "This work was done during the Summer Reaserch Experiences program at the University of British Columbia Mathematics department. The topic of interest for this reaserch is the K-Nearest Neighbours (KNN) algorithm. More specifically the goal was to try and overcome the main challenges KNN faces when used with datasets with a large number of points $n$. When $n$ is large not only does KNN encounter some memory issue, but it becomes solwer in its predictions.\n"
   ]
  },
  {
   "cell_type": "markdown",
   "id": "1c0a0a02",
   "metadata": {},
   "source": [
    "### The KNN Algorithm\n",
    "\n",
    "KNN is a supervised learning algorithm with one hyperparameter $k$. It's exectution for predictions can be explained as follows:\n",
    "- Store all examples and their labels from the training set in memory.\n",
    "- To predict the label of an unseen example $x$:\n",
    "    - Calculate the distances between $x$ and every training example.\n",
    "    - Find the $k$-nearest neighbours of $x$.\n",
    "    - Give $x$ the most common label among its nearest neighbours."
   ]
  },
  {
   "cell_type": "markdown",
   "id": "435ffb1e",
   "metadata": {},
   "source": [
    "![Demo Animation](knn_visualization/media/gifs/Knn.gif)"
   ]
  },
  {
   "cell_type": "markdown",
   "id": "b516643d",
   "metadata": {},
   "source": [
    "<img src=\"knn_visualization/media/gifs/Knn.gif\" width=\"600\">"
   ]
  },
  {
   "cell_type": "markdown",
   "id": "ee7e1dbc",
   "metadata": {},
   "source": [
    "### Memory Bounded KNN\n",
    "\n",
    "The KNN algorithm requires $O(nd)$ memory usage, where $n$ is the number of training examples and $d$ is the number of features of each example. Predicting the label of one unseen example takes $O(nd)$ time, as we need to calculate one distance for every training example.\n",
    "\n",
    "The idea between Memory Bounded KNN (MBKNN) is to take a subset of the training dataset with fixed size $m$, and to only use those points in our predictions. This brings our memory usage and prediction time down to $O(d)$."
   ]
  },
  {
   "cell_type": "markdown",
   "id": "1211cdb1",
   "metadata": {},
   "source": [
    "![Demo Animation Two](knn_visualization/media/gifs/KnnMemoryBounded.gif)"
   ]
  }
 ],
 "metadata": {
  "kernelspec": {
   "display_name": "Python 3 (ipykernel)",
   "language": "python",
   "name": "python3"
  }
 },
 "nbformat": 4,
 "nbformat_minor": 5
}
